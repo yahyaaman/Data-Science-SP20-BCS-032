{
 "cells": [
  {
   "cell_type": "code",
   "execution_count": 28,
   "id": "fd8fb730",
   "metadata": {},
   "outputs": [
    {
     "name": "stdout",
     "output_type": "stream",
     "text": [
      "<re.Match object; span=(0, 9), match='cscIDS001'>\n"
     ]
    }
   ],
   "source": [
    "#Problem - 1\n",
    "import re\n",
    "\n",
    "text = 'cscIDS001'\n",
    "result = re.search(r'(csc)(\\w*)001$', text)\n",
    "\n",
    "print(result)"
   ]
  },
  {
   "cell_type": "code",
   "execution_count": 14,
   "id": "49853591",
   "metadata": {},
   "outputs": [
    {
     "name": "stdout",
     "output_type": "stream",
     "text": [
      "<re.Match object; span=(0, 11), match='testFile.py'>\n",
      "Filename: testFile\n",
      "Extension: py\n"
     ]
    }
   ],
   "source": [
    "#Problem - 2\n",
    "import re\n",
    "\n",
    "text = 'testFile.py'\n",
    "result = re.search(r'(\\w+)[.]py$', text)\n",
    "\n",
    "if(result):\n",
    "    print(result)\n",
    "    filename, extension = text.split('.')\n",
    "    print('Filename:', filename)\n",
    "    print('Extension:', extension)\n",
    "\n",
    "else:\n",
    "    print('incorrent file syntax')"
   ]
  },
  {
   "cell_type": "code",
   "execution_count": 1,
   "id": "eaa5dc48",
   "metadata": {},
   "outputs": [
    {
     "name": "stdout",
     "output_type": "stream",
     "text": [
      "File(s) found: \n",
      "['assignment1.py', 'ids.py']\n"
     ]
    }
   ],
   "source": [
    "#Problem - 3\n",
    "import re\n",
    "\n",
    "text = '“This contains two files, assignment1.py and ids.py'\n",
    "result = re.findall(r'(\\w+)[.](py)(\\s|$)', text)\n",
    "\n",
    "if(result):\n",
    "    filenames = []\n",
    "    print('File(s) found: ')\n",
    "    for i in range(len(result)):\n",
    "        filenames.append(result[i][0] + '.' + result[i][1])\n",
    "    print(filenames)\n",
    "\n",
    "else:\n",
    "    print('No file found')"
   ]
  },
  {
   "cell_type": "code",
   "execution_count": 2,
   "id": "29e12862",
   "metadata": {},
   "outputs": [
    {
     "name": "stdout",
     "output_type": "stream",
     "text": [
      "['file1', 'file2', 'file3', 'file4']\n"
     ]
    }
   ],
   "source": [
    "#Problem - 4\n",
    "import re\n",
    "\n",
    "text = ' file1.docx, file2.docx, file3.doc, and file4.doc'\n",
    "result = re.findall(r'(\\w+)[.](doc|docx)', text)\n",
    "\n",
    "if(result):\n",
    "    filenames = []\n",
    "    for i in range(len(result)):\n",
    "        filenames.append(result[i][0])\n",
    "    print(filenames)\n",
    "else:\n",
    "    print('no filename found with extensions .docx or .doc')"
   ]
  },
  {
   "cell_type": "code",
   "execution_count": 3,
   "id": "043df1fe",
   "metadata": {},
   "outputs": [
    {
     "name": "stdout",
     "output_type": "stream",
     "text": [
      "Start location of desired filename is at position:  49\n"
     ]
    }
   ],
   "source": [
    "#Problem - 5\n",
    "import re\n",
    "\n",
    "text = 'Please edit the following two MS Word documents (bscs.doc) and (bsse.docx), and share with us'\n",
    "result = re.search(r'(\\w+)[.](doc|docx)', text)\n",
    "\n",
    "print('Start location of desired filename is at position: ',result.start())"
   ]
  },
  {
   "cell_type": "code",
   "execution_count": null,
   "id": "54906eae-1a55-4d84-bce1-3fa369876b4c",
   "metadata": {},
   "outputs": [],
   "source": []
  }
 ],
 "metadata": {
  "kernelspec": {
   "display_name": "Python 3 (ipykernel)",
   "language": "python",
   "name": "python3"
  },
  "language_info": {
   "codemirror_mode": {
    "name": "ipython",
    "version": 3
   },
   "file_extension": ".py",
   "mimetype": "text/x-python",
   "name": "python",
   "nbconvert_exporter": "python",
   "pygments_lexer": "ipython3",
   "version": "3.10.0"
  }
 },
 "nbformat": 4,
 "nbformat_minor": 5
}
